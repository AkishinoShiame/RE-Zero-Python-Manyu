{
 "cells": [
  {
   "cell_type": "markdown",
   "metadata": {},
   "source": [
    "# Pythonの構想と使用例"
   ]
  },
  {
   "cell_type": "markdown",
   "metadata": {},
   "source": [
    "Python list, which can fill with different datas."
   ]
  },
  {
   "cell_type": "code",
   "execution_count": 1,
   "metadata": {},
   "outputs": [],
   "source": [
    "#value init\n",
    "fruits = ['orange', 'apple', 'pear', 'banana', 'kiwi', 'apple', 'banana']"
   ]
  },
  {
   "cell_type": "markdown",
   "metadata": {},
   "source": [
    "Below shows the basic usage."
   ]
  },
  {
   "cell_type": "code",
   "execution_count": 2,
   "metadata": {},
   "outputs": [],
   "source": [
    "def basic_list():\n",
    "    print(\"Count item in lists: \", fruits.count('apple'))\n",
    "    print(\"Add new item. - 'papaya' ------ \", fruits.append('papaya'))\n",
    "    print(\"Show all list after append.\", fruits)\n",
    "    print(\"Get first 'banana' 's index: \",fruits.index('banana'))\n",
    "    print(\"Find next 'banana', starts by 4: \",fruits.index('banana', 4))\n",
    "    print(\"Reverse list. ------ \",fruits.reverse())\n",
    "    print(\"Show all list after reverse. \", fruits)\n",
    "    fruits.append('grape')\n",
    "    print(\"Sort the list: \",fruits.sort())\n",
    "    print(\"Show Sorted. \", fruits)\n",
    "    print(\"Delete one item, default from last: \",fruits.pop())\n",
    "    print(\"Remove item 'banana'. ------ \", fruits.remove('banana'))\n",
    "    print(\"Current list: \",fruits)\n",
    "    print(\"Clean up list. \",fruits.clear())\n",
    "    print(\"Shown list 'fruits' : \",fruits)"
   ]
  },
  {
   "cell_type": "code",
   "execution_count": 3,
   "metadata": {},
   "outputs": [
    {
     "name": "stdout",
     "output_type": "stream",
     "text": [
      "Count item in lists:  2\n",
      "Add new item. - 'papaya' ------  None\n",
      "Show all list after append. ['orange', 'apple', 'pear', 'banana', 'kiwi', 'apple', 'banana', 'papaya']\n",
      "Get first 'banana' 's index:  3\n",
      "Find next 'banana', starts by 4:  6\n",
      "Reverse list. ------  None\n",
      "Show all list after reverse.  ['papaya', 'banana', 'apple', 'kiwi', 'banana', 'pear', 'apple', 'orange']\n",
      "Sort the list:  None\n",
      "Show Sorted.  ['apple', 'apple', 'banana', 'banana', 'grape', 'kiwi', 'orange', 'papaya', 'pear']\n",
      "Delete one item, default from last:  pear\n",
      "Remove item 'banana'. ------  None\n",
      "Current list:  ['apple', 'apple', 'banana', 'grape', 'kiwi', 'orange', 'papaya']\n",
      "Clean up list.  None\n",
      "Shown list 'fruits' :  []\n"
     ]
    }
   ],
   "source": [
    "# show result first\n",
    "basic_list()"
   ]
  },
  {
   "cell_type": "markdown",
   "metadata": {},
   "source": [
    "The usage of **format** and **placeholder**."
   ]
  },
  {
   "cell_type": "code",
   "execution_count": 4,
   "metadata": {},
   "outputs": [],
   "source": [
    "#First define an unpacker\n",
    "def unpacker(name=None, food=None):\n",
    "    return [\"Hi, I'm {} and I love to eat {}!\".format(name, food)]"
   ]
  },
  {
   "cell_type": "code",
   "execution_count": 5,
   "metadata": {},
   "outputs": [],
   "source": [
    "#Define a function to unpack and reformat the result from extracting datas.\n",
    "def string_factory(values):\n",
    "    ans = []\n",
    "    for value in values:\n",
    "        template = unpacker(**value)\n",
    "        ans.extend(template)\n",
    "    return ans"
   ]
  },
  {
   "cell_type": "markdown",
   "metadata": {},
   "source": [
    "Then we can see the result by defining `main` function.  \n",
    "Also, **set up the test case**."
   ]
  },
  {
   "cell_type": "code",
   "execution_count": 6,
   "metadata": {},
   "outputs": [
    {
     "name": "stdout",
     "output_type": "stream",
     "text": [
      "[\"Hi, I'm Michelangelo and I love to eat PIZZA!\", \"Hi, I'm Garfield and I love to eat lasagna!\"]\n"
     ]
    }
   ],
   "source": [
    "if __name__ == \"__main__\":\n",
    "    values = [{\"name\": \"Michelangelo\", \"food\": \"PIZZA\"}, {\"name\": \"Garfield\", \"food\": \"lasagna\"}]\n",
    "    result = string_factory(values)\n",
    "    print(result)"
   ]
  }
 ],
 "metadata": {
  "kernelspec": {
   "display_name": "Python 3",
   "language": "python",
   "name": "python3"
  },
  "language_info": {
   "codemirror_mode": {
    "name": "ipython",
    "version": 3
   },
   "file_extension": ".py",
   "mimetype": "text/x-python",
   "name": "python",
   "nbconvert_exporter": "python",
   "pygments_lexer": "ipython3",
   "version": "3.7.5"
  }
 },
 "nbformat": 4,
 "nbformat_minor": 4
}
