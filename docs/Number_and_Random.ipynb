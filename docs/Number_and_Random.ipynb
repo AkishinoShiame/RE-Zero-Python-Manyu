{
 "cells": [
  {
   "cell_type": "markdown",
   "metadata": {},
   "source": [
    "Import the library of random"
   ]
  },
  {
   "cell_type": "code",
   "execution_count": 1,
   "metadata": {},
   "outputs": [],
   "source": [
    "import random"
   ]
  },
  {
   "cell_type": "markdown",
   "metadata": {},
   "source": [
    "Define a function can random output a float."
   ]
  },
  {
   "cell_type": "code",
   "execution_count": 2,
   "metadata": {},
   "outputs": [],
   "source": [
    "def rand_float():\n",
    "    rand_num = random.random()\n",
    "    print(\"test : \", rand_num)\n",
    "    return rand_num"
   ]
  },
  {
   "cell_type": "markdown",
   "metadata": {},
   "source": [
    "Define a function can random output an int in range.  \n",
    "IF not define, the default range is from 0 to 100.  "
   ]
  },
  {
   "cell_type": "code",
   "execution_count": 3,
   "metadata": {},
   "outputs": [],
   "source": [
    "def rand_int(head=0,tail=100):\n",
    "    rand_num = random.randint(head,tail)\n",
    "    print(\"test : \", rand_num)\n",
    "    return rand_num"
   ]
  },
  {
   "cell_type": "markdown",
   "metadata": {},
   "source": [
    "Define a main function to show the random number output.  \n",
    "Also the output of normal math function.  "
   ]
  },
  {
   "cell_type": "code",
   "execution_count": 4,
   "metadata": {},
   "outputs": [
    {
     "name": "stdout",
     "output_type": "stream",
     "text": [
      "test :  9\n",
      "A random int : 9\n",
      "test :  0.5217010370013044\n",
      "A random float : 0.5217010370013044\n",
      "1+1= 2\n",
      "7-3= 4\n",
      "7/3= 2.3333333333333335\n",
      "8/0.2= 40.0\n",
      "8/0.3= 26.666666666666668\n",
      "7*6= 42\n",
      "7%3= 1\n"
     ]
    }
   ],
   "source": [
    "if __name__ == \"__main__\":\n",
    "    print(\"A random int :\", rand_int(0,20))\n",
    "    print(\"A random float :\", rand_float())\n",
    "    print(\"1+1=\", (1 + 1) )\n",
    "    print(\"7-3=\", (7 - 3) )\n",
    "    print(\"7/3=\", (7 / 3) )\n",
    "    print(\"8/0.2=\", (8 / .2) )\n",
    "    print(\"8/0.3=\", (8 / .3) )\n",
    "    print(\"7*6=\", (7 * 6) )\n",
    "    print(\"7%3=\", (7 % 3) )"
   ]
  }
 ],
 "metadata": {
  "kernelspec": {
   "display_name": "Python 3",
   "language": "python",
   "name": "python3"
  },
  "language_info": {
   "codemirror_mode": {
    "name": "ipython",
    "version": 3
   },
   "file_extension": ".py",
   "mimetype": "text/x-python",
   "name": "python",
   "nbconvert_exporter": "python",
   "pygments_lexer": "ipython3",
   "version": "3.7.2"
  }
 },
 "nbformat": 4,
 "nbformat_minor": 2
}
