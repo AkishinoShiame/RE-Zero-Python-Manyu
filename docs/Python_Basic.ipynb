{
 "cells": [
  {
   "cell_type": "markdown",
   "metadata": {},
   "source": [
    "# Pythonの基礎"
   ]
  },
  {
   "cell_type": "markdown",
   "metadata": {},
   "source": [
    "The single line comment uses # to declare in line head.  \n",
    "Library import uses import <library> to import, be aware on the letters.  "
   ]
  },
  {
   "cell_type": "code",
   "execution_count": 1,
   "metadata": {},
   "outputs": [],
   "source": [
    "# import <library>"
   ]
  },
  {
   "cell_type": "markdown",
   "metadata": {},
   "source": [
    "This is the multi line comment.  \n",
    "Start and ends with '''  "
   ]
  },
  {
   "cell_type": "code",
   "execution_count": 2,
   "metadata": {},
   "outputs": [
    {
     "data": {
      "text/plain": [
       "'\\nThis file is created by @AkishinoShiame \\nOn date 2019/09/02\\nFile Name: Python_Basic.py\\n'"
      ]
     },
     "execution_count": 2,
     "metadata": {},
     "output_type": "execute_result"
    }
   ],
   "source": [
    "'''\n",
    "This file is created by @AkishinoShiame \n",
    "On date 2019/09/02\n",
    "File Name: Python_Basic.py\n",
    "'''"
   ]
  },
  {
   "cell_type": "markdown",
   "metadata": {},
   "source": [
    "Belows is the declare of variables.  \n",
    "A soft remind that python will auto knows what's the variables type using,  "
   ]
  },
  {
   "cell_type": "code",
   "execution_count": 3,
   "metadata": {},
   "outputs": [],
   "source": [
    "Num_temp = 2\n",
    "Float_temp = .7\n",
    "String_temp = \"ConoHa IchiBan !\""
   ]
  },
  {
   "cell_type": "markdown",
   "metadata": {},
   "source": [
    "Any line start with def means to define a function.  \n",
    "Same as other language, any predefine variables if wants to add, then put inside ().  \n",
    "Python uses : and \"Tab\" for the codes needs to run inside function, rather then {}. "
   ]
  },
  {
   "cell_type": "code",
   "execution_count": 4,
   "metadata": {},
   "outputs": [],
   "source": [
    "def print_the_predefine():\n",
    "    print(Num_temp, \" // \", Float_temp, \" // \", String_temp) # python 3 print code-style.\n",
    "    print(type(Num_temp), \" // \", type(Float_temp), \" // \", type(String_temp) ) # print out the variables types which been recognized by python  "
   ]
  },
  {
   "cell_type": "markdown",
   "metadata": {},
   "source": [
    "Declare another function to print out the string."
   ]
  },
  {
   "cell_type": "code",
   "execution_count": 5,
   "metadata": {},
   "outputs": [],
   "source": [
    "def Standard_Print():\n",
    "    print(\"Hello Python3 !\") # the print method in python 3\n",
    "    '''\n",
    "    print \"Hello Python2 !\" # the print method in python 2\n",
    "    '''"
   ]
  },
  {
   "cell_type": "markdown",
   "metadata": {},
   "source": [
    "Define the main function, this is the python main function looks like.  "
   ]
  },
  {
   "cell_type": "code",
   "execution_count": 6,
   "metadata": {},
   "outputs": [
    {
     "name": "stdout",
     "output_type": "stream",
     "text": [
      "Hello Python3 !\n",
      "2  //  0.7  //  ConoHa IchiBan !\n",
      "<class 'int'>  //  <class 'float'>  //  <class 'str'>\n"
     ]
    }
   ],
   "source": [
    "if __name__ == \"__main__\":\n",
    "    Standard_Print()\n",
    "    print_the_predefine()"
   ]
  }
 ],
 "metadata": {
  "kernelspec": {
   "display_name": "Python 3",
   "language": "python",
   "name": "python3"
  },
  "language_info": {
   "codemirror_mode": {
    "name": "ipython",
    "version": 3
   },
   "file_extension": ".py",
   "mimetype": "text/x-python",
   "name": "python",
   "nbconvert_exporter": "python",
   "pygments_lexer": "ipython3",
   "version": "3.7.5"
  }
 },
 "nbformat": 4,
 "nbformat_minor": 2
}
