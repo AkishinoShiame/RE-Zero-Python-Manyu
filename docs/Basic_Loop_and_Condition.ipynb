{
 "cells": [
  {
   "cell_type": "markdown",
   "metadata": {},
   "source": [
    "Import  random for making up the random testcase use,"
   ]
  },
  {
   "cell_type": "code",
   "execution_count": 1,
   "metadata": {},
   "outputs": [],
   "source": [
    "import random"
   ]
  },
  {
   "cell_type": "markdown",
   "metadata": {},
   "source": [
    "Define a single `if`."
   ]
  },
  {
   "cell_type": "code",
   "execution_count": 2,
   "metadata": {},
   "outputs": [],
   "source": [
    "def OnlyIf(Input=0):\n",
    "    print(\"[Info]>> Input is :\",Input)\n",
    "    if Input==0:\n",
    "        print(\"This will shows only if 0.\")"
   ]
  },
  {
   "cell_type": "markdown",
   "metadata": {},
   "source": [
    "Define an `if-else` method."
   ]
  },
  {
   "cell_type": "code",
   "execution_count": 3,
   "metadata": {},
   "outputs": [],
   "source": [
    "def IfElse(Input=0):\n",
    "    print(\"[Info]>> Input is :\",Input)\n",
    "    if Input==0:\n",
    "        print(\"This will shows when if else catch 0.\")\n",
    "    else:\n",
    "        print(\"This will shows when if else catch others then 0.\")"
   ]
  },
  {
   "cell_type": "markdown",
   "metadata": {},
   "source": [
    "Define an normal coding useage when several conditions.  \n",
    "Using `if-else_if-else`, the else-if should wrote in code as **`elif`**."
   ]
  },
  {
   "cell_type": "code",
   "execution_count": 4,
   "metadata": {},
   "outputs": [],
   "source": [
    "def ExtendIfElse(Input=0):\n",
    "    print(\"[Info]>> Input is :\",Input)\n",
    "    if Input==0:\n",
    "        print(\"This shows when Extend if-else catchs 0.\")\n",
    "    elif Input==2:\n",
    "        print(\"It shows when the Extend if-else got not 0 but 2\")\n",
    "    else:\n",
    "        print(\"Shows up when Extend if-else gets exception not 0 and nor 2.\")"
   ]
  },
  {
   "cell_type": "markdown",
   "metadata": {},
   "source": [
    "Define a common While loop in python."
   ]
  },
  {
   "cell_type": "code",
   "execution_count": 5,
   "metadata": {},
   "outputs": [],
   "source": [
    "def WhileLoop(Input=0):\n",
    "    print(\"[Info]>> Input is :\",Input)\n",
    "    TempStart = -1\n",
    "    while TempStart < Input:\n",
    "        print(\"While loop still running... Currently cached:\", TempStart)\n",
    "        TempStart += 1"
   ]
  },
  {
   "cell_type": "markdown",
   "metadata": {},
   "source": [
    "Define a common for loop in python, the same concept brings from c/c++.  \n",
    "As `for` loop in python can uses a list or `range(<number>)` which means inside *<number>* of ranges after `in` keyword,"
   ]
  },
  {
   "cell_type": "code",
   "execution_count": 6,
   "metadata": {},
   "outputs": [],
   "source": [
    "def ForLoop(Input=0):\n",
    "    print(\"[Info]>> Input is :\",Input)\n",
    "    for i in range(Input):\n",
    "        print(\"Currently in the range of Input makes for continue!! i is:\", i)"
   ]
  },
  {
   "cell_type": "markdown",
   "metadata": {},
   "source": [
    "Define a main function for sending random imput as testcase to check how aboves basics loops and condition functions works.  \n",
    "Try to execute meny times to check the differences and logics."
   ]
  },
  {
   "cell_type": "code",
   "execution_count": 18,
   "metadata": {},
   "outputs": [
    {
     "name": "stdout",
     "output_type": "stream",
     "text": [
      "[Info]>> Input is : 0\n",
      "This will shows only if 0.\n",
      "[Info]>> Input is : 1\n",
      "This will shows when if else catch others then 0.\n",
      "[Info]>> Input is : 3\n",
      "Shows up when Extend if-else gets exception not 0 and nor 2.\n",
      "[Info]>> Input is : 4\n",
      "While loop still running... Currently cached: -1\n",
      "While loop still running... Currently cached: 0\n",
      "While loop still running... Currently cached: 1\n",
      "While loop still running... Currently cached: 2\n",
      "While loop still running... Currently cached: 3\n",
      "[Info]>> Input is : 6\n",
      "Currently in the range of Input makes for continue!! i is: 0\n",
      "Currently in the range of Input makes for continue!! i is: 1\n",
      "Currently in the range of Input makes for continue!! i is: 2\n",
      "Currently in the range of Input makes for continue!! i is: 3\n",
      "Currently in the range of Input makes for continue!! i is: 4\n",
      "Currently in the range of Input makes for continue!! i is: 5\n",
      "[Info]>> Can runs for more times to check different result!!\n"
     ]
    }
   ],
   "source": [
    "if __name__ == \"__main__\":\n",
    "    OnlyIf(random.randint(0,1))\n",
    "    IfElse(random.randint(0,10))\n",
    "    ExtendIfElse(random.randint(0,7))\n",
    "    WhileLoop(random.randint(1,4))\n",
    "    ForLoop(random.randint(1,6))\n",
    "    print(\"[Info]>> Can runs for more times to check different result!!\")"
   ]
  }
 ],
 "metadata": {
  "kernelspec": {
   "display_name": "Python 3",
   "language": "python",
   "name": "python3"
  },
  "language_info": {
   "codemirror_mode": {
    "name": "ipython",
    "version": 3
   },
   "file_extension": ".py",
   "mimetype": "text/x-python",
   "name": "python",
   "nbconvert_exporter": "python",
   "pygments_lexer": "ipython3",
   "version": "3.7.5"
  }
 },
 "nbformat": 4,
 "nbformat_minor": 2
}
