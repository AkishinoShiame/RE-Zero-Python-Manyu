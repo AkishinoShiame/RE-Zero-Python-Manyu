{
 "cells": [
  {
   "cell_type": "markdown",
   "metadata": {},
   "source": [
    "# CSVを綺麗な形式を読み出す"
   ]
  },
  {
   "cell_type": "markdown",
   "metadata": {},
   "source": [
    "Origional imput file format can be found in [Here](./raw/fakeinput.csv)  \n",
    "This file was use for the CSV2CSV which pretty the origional layout.  \n",
    "For efficiency, it is wrote as a executable file in linux system.  "
   ]
  },
  {
   "cell_type": "code",
   "execution_count": 1,
   "metadata": {},
   "outputs": [],
   "source": [
    "#!/usr/bin/python3  #<< first line for the file become executable.\n",
    "import argparse # read stdio from terminal for input and output\n",
    "import csv"
   ]
  },
  {
   "cell_type": "markdown",
   "metadata": {},
   "source": [
    "Defines to read the arguments from terminal input.  \n",
    "Also **Show help** description."
   ]
  },
  {
   "cell_type": "code",
   "execution_count": 3,
   "metadata": {},
   "outputs": [
    {
     "name": "stderr",
     "output_type": "stream",
     "text": [
      "usage: 使用例；csv2prettyDetailCSV.py input.csv output.csv\n",
      "CSV変換君(*'▽'): error: the following arguments are required: out_file\n"
     ]
    },
    {
     "ename": "SystemExit",
     "evalue": "2",
     "output_type": "error",
     "traceback": [
      "An exception has occurred, use %tb to see the full traceback.\n",
      "\u001b[0;31mSystemExit\u001b[0m\u001b[0;31m:\u001b[0m 2\n"
     ]
    }
   ],
   "source": [
    "# argparse global\n",
    "GlobalArg = argparse.ArgumentParser(prog=\"CSV変換君(*'▽')\"\n",
    "                                    ,usage='使用例；csv2prettyDetailCSV.py input.csv output.csv'\n",
    "                                    ,description=\"\"\"オリジナルCSVファイルを綺麗な形式に変換するツール。\n",
    "                                    詳細の使い方は'csv2prettyDetailCSV.py input.csv output.csv。'\"\"\")\n",
    "\n",
    "GlobalArg.add_argument('in_file',help='希望変換ファイルの保存場所。' )\n",
    "GlobalArg.add_argument('out_file',help='変換完成ファイルの保存場所。' )\n",
    "\n",
    "filename = GlobalArg.parse_args()"
   ]
  },
  {
   "cell_type": "markdown",
   "metadata": {},
   "source": [
    "Below is the main function for the CSV layout."
   ]
  },
  {
   "cell_type": "code",
   "execution_count": 4,
   "metadata": {},
   "outputs": [
    {
     "ename": "NameError",
     "evalue": "name 'filename' is not defined",
     "output_type": "error",
     "traceback": [
      "\u001b[0;31m---------------------------------------------------------------------------\u001b[0m",
      "\u001b[0;31mNameError\u001b[0m                                 Traceback (most recent call last)",
      "\u001b[0;32m<ipython-input-4-fed5b8094531>\u001b[0m in \u001b[0;36m<module>\u001b[0;34m\u001b[0m\n\u001b[1;32m      1\u001b[0m \u001b[0;31m#check origional file total\u001b[0m\u001b[0;34m\u001b[0m\u001b[0;34m\u001b[0m\u001b[0;34m\u001b[0m\u001b[0m\n\u001b[0;32m----> 2\u001b[0;31m \u001b[0mfil\u001b[0m \u001b[0;34m=\u001b[0m \u001b[0mopen\u001b[0m\u001b[0;34m(\u001b[0m\u001b[0mfilename\u001b[0m\u001b[0;34m.\u001b[0m\u001b[0min_file\u001b[0m\u001b[0;34m,\u001b[0m \u001b[0;34m'r'\u001b[0m\u001b[0;34m)\u001b[0m\u001b[0;34m\u001b[0m\u001b[0;34m\u001b[0m\u001b[0m\n\u001b[0m\u001b[1;32m      3\u001b[0m \u001b[0mtotal\u001b[0m \u001b[0;34m=\u001b[0m \u001b[0mlen\u001b[0m\u001b[0;34m(\u001b[0m\u001b[0mfil\u001b[0m\u001b[0;34m.\u001b[0m\u001b[0mreadlines\u001b[0m\u001b[0;34m(\u001b[0m\u001b[0;34m)\u001b[0m\u001b[0;34m)\u001b[0m\u001b[0;34m\u001b[0m\u001b[0;34m\u001b[0m\u001b[0m\n\u001b[1;32m      4\u001b[0m \u001b[0mfil\u001b[0m\u001b[0;34m.\u001b[0m\u001b[0mclose\u001b[0m\u001b[0;34m(\u001b[0m\u001b[0;34m)\u001b[0m\u001b[0;34m\u001b[0m\u001b[0;34m\u001b[0m\u001b[0m\n\u001b[1;32m      5\u001b[0m \u001b[0;34m\u001b[0m\u001b[0m\n",
      "\u001b[0;31mNameError\u001b[0m: name 'filename' is not defined"
     ]
    }
   ],
   "source": [
    "#check origional file total\n",
    "fil = open(filename.in_file, 'r')\n",
    "total = len(fil.readlines())\n",
    "fil.close()\n",
    "\n",
    "\n",
    "with open(filename.in_file, 'r') as f:\n",
    "    reader = csv.reader(f)\n",
    "    FL = True\n",
    "\n",
    "    # for write use\n",
    "    wf = open(filename.out_file, 'w')\n",
    "    # for write use\n",
    "\n",
    "    #for process count\n",
    "    process = 1\n",
    "    \n",
    "    print(\"進行状況（現在/全部）:　\", process, \"/\", total)\n",
    "    for row in reader:\n",
    "        if FL == True:\n",
    "            Frow = row[0] + \", \" + row[1] + \", \" + row[2] + \", ver, date, \" + row[3] + \", \" + row[4] + \", \" + row[5] + \"\\n\"\n",
    "            wf.write(Frow)\n",
    "            FL = False\n",
    "            process += 1\n",
    "            continue\n",
    "        # Define fixed item ↓\n",
    "        CPname = row[0]\n",
    "        CPcpu = row[1]\n",
    "        APPlst_raw = row[2]\n",
    "        CPip = row[3]\n",
    "        CPos = row[4]\n",
    "        CPreport = row[5]\n",
    "\n",
    "        APPlst = APPlst_raw.splitlines() \n",
    "        for item in APPlst:\n",
    "            rawlst = item.replace(\"|\",',')\n",
    "            context_row = '\"' + CPname + '\",\"' + CPcpu + '\",' + rawlst + ',\"' + CPip + '\",\"' + CPos + '\",\"' + CPreport + '\"\\n'\n",
    "            wf.write(str(context_row))\n",
    "            process += 1\n",
    "        print(\"進行状況（現在/全部）:　\", process, \"/\", total)\n",
    "    #finalized\n",
    "    wf.close()\n",
    "    print(\"変換成功！\")"
   ]
  }
 ],
 "metadata": {
  "kernelspec": {
   "display_name": "Python 3",
   "language": "python",
   "name": "python3"
  },
  "language_info": {
   "codemirror_mode": {
    "name": "ipython",
    "version": 3
   },
   "file_extension": ".py",
   "mimetype": "text/x-python",
   "name": "python",
   "nbconvert_exporter": "python",
   "pygments_lexer": "ipython3",
   "version": "3.7.5"
  }
 },
 "nbformat": 4,
 "nbformat_minor": 4
}
