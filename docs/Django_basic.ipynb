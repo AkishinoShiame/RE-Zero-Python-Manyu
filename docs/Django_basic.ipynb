{
 "cells": [
  {
   "cell_type": "markdown",
   "metadata": {},
   "source": [
    "# Djangoを基礎から勉強しよう\n",
    "このファイルはパイザ(Paiza)ウェブで勉強するの記録ノートです。  \n",
    "重要な部分をここに書き出します。  "
   ]
  },
  {
   "cell_type": "markdown",
   "metadata": {},
   "source": [
    "#### Djangoの特徴\n",
    "必要な機能を標準装備：\n",
    "- テンプレートエンジン\n",
    "- データベース(O/Rマッパー)\n",
    "- 管理画面\n",
    "- ユーザー認証\n",
    "- など。。。"
   ]
  },
  {
   "cell_type": "code",
   "execution_count": 1,
   "metadata": {},
   "outputs": [
    {
     "name": "stdout",
     "output_type": "stream",
     "text": [
      "Python 3.7.5\n",
      "Collecting django\n",
      "\u001b[?25l  Downloading https://files.pythonhosted.org/packages/9d/04/04abb097c84c770180eeebe7ed920ce42f9917ab5ad4de01ff8ed11bc25b/Django-3.0.6-py3-none-any.whl (7.5MB)\n",
      "\u001b[K     |████████████████████████████████| 7.5MB 699kB/s eta 0:00:01\n",
      "\u001b[?25hCollecting asgiref~=3.2\n",
      "  Downloading https://files.pythonhosted.org/packages/68/00/25013f7310a56d17e1ab6fd885d5c1f216b7123b550d295c93f8e29d372a/asgiref-3.2.7-py2.py3-none-any.whl\n",
      "Collecting sqlparse>=0.2.2\n",
      "\u001b[?25l  Downloading https://files.pythonhosted.org/packages/85/ee/6e821932f413a5c4b76be9c5936e313e4fc626b33f16e027866e1d60f588/sqlparse-0.3.1-py2.py3-none-any.whl (40kB)\n",
      "\u001b[K     |████████████████████████████████| 40kB 7.7MB/s  eta 0:00:01\n",
      "\u001b[?25hRequirement already satisfied: pytz in /usr/local/lib/python3.7/site-packages/pytz-2019.3-py3.7.egg (from django) (2019.3)\n",
      "Installing collected packages: asgiref, sqlparse, django\n",
      "Successfully installed asgiref-3.2.7 django-3.0.6 sqlparse-0.3.1\n",
      "3.0.6\n"
     ]
    }
   ],
   "source": [
    "# library install 確認\n",
    "!python3 -V\n",
    "!pip3 install django\n",
    "!python3 -m django --version"
   ]
  },
  {
   "cell_type": "markdown",
   "metadata": {},
   "source": [
    "**Start a new django project [ウェブ掲示板] .**"
   ]
  },
  {
   "cell_type": "code",
   "execution_count": 4,
   "metadata": {},
   "outputs": [
    {
     "name": "stdout",
     "output_type": "stream",
     "text": [
      "\u001b[01;34mraw/myapp\u001b[00m\r\n",
      "├── \u001b[01;32mmanage.py\u001b[00m\r\n",
      "└── \u001b[01;34mmyapp\u001b[00m\r\n",
      "    ├── __init__.py\r\n",
      "    ├── asgi.py\r\n",
      "    ├── settings.py\r\n",
      "    ├── urls.py\r\n",
      "    └── wsgi.py\r\n",
      "\r\n",
      "1 directory, 6 files\r\n"
     ]
    }
   ],
   "source": [
    "!cd raw && django-admin startproject myapp\n",
    "!tree raw/myapp"
   ]
  },
  {
   "cell_type": "markdown",
   "metadata": {},
   "source": [
    "Then needs to goes to `settings.py` under `myapp`.    \n",
    "Modify the value of `ALLOWED_HOSTS` to `=[ ' * ' ]`.  "
   ]
  },
  {
   "cell_type": "code",
   "execution_count": 8,
   "metadata": {},
   "outputs": [],
   "source": [
    "# settings.py, line 28\n",
    "ALLOWED_HOSTS = ['*']"
   ]
  },
  {
   "cell_type": "markdown",
   "metadata": {},
   "source": [
    "First try on running server"
   ]
  },
  {
   "cell_type": "code",
   "execution_count": 10,
   "metadata": {},
   "outputs": [
    {
     "name": "stdout",
     "output_type": "stream",
     "text": [
      "Watching for file changes with StatReloader\n",
      "Performing system checks...\n",
      "\n",
      "System check identified no issues (0 silenced).\n",
      "\u001b[31m\n",
      "You have 17 unapplied migration(s). Your project may not work properly until you apply the migrations for app(s): admin, auth, contenttypes, sessions.\u001b[0m\n",
      "\u001b[31mRun 'python manage.py migrate' to apply them.\n",
      "\u001b[0m\n",
      "May 21, 2020 - 03:29:36\n",
      "Django version 3.0.6, using settings 'myapp.settings'\n",
      "Starting development server at http://127.0.0.1:8000/\n",
      "Quit the server with CONTROL-C.\n",
      "[21/May/2020 03:31:47] \u001b[m\"GET / HTTP/1.1\" 200 16351\u001b[0m\n",
      "[21/May/2020 03:31:47] \u001b[m\"GET /static/admin/css/fonts.css HTTP/1.1\" 200 423\u001b[0m\n",
      "[21/May/2020 03:31:47] \u001b[m\"GET /static/admin/fonts/Roboto-Regular-webfont.woff HTTP/1.1\" 200 85876\u001b[0m\n",
      "[21/May/2020 03:31:47] \u001b[m\"GET /static/admin/fonts/Roboto-Bold-webfont.woff HTTP/1.1\" 200 86184\u001b[0m\n",
      "[21/May/2020 03:31:47] \u001b[m\"GET /static/admin/fonts/Roboto-Light-webfont.woff HTTP/1.1\" 200 85692\u001b[0m\n",
      "Not Found: /favicon.ico\n",
      "[21/May/2020 03:31:47] \u001b[33m\"GET /favicon.ico HTTP/1.1\" 404 1971\u001b[0m\n",
      "^C\n"
     ]
    }
   ],
   "source": [
    "!cd raw/myapp/ && python3 manage.py runserver"
   ]
  },
  {
   "cell_type": "markdown",
   "metadata": {},
   "source": [
    "Then we can see the web page by access [http://127.0.0.1:8000/](http://127.0.0.1:8000/)  \n",
    "実際にはこう表示させます。  \n",
    "![capture](raw/ScrS/django-start.png)"
   ]
  }
 ],
 "metadata": {
  "kernelspec": {
   "display_name": "Python 3",
   "language": "python",
   "name": "python3"
  },
  "language_info": {
   "codemirror_mode": {
    "name": "ipython",
    "version": 3
   },
   "file_extension": ".py",
   "mimetype": "text/x-python",
   "name": "python",
   "nbconvert_exporter": "python",
   "pygments_lexer": "ipython3",
   "version": "3.7.5"
  }
 },
 "nbformat": 4,
 "nbformat_minor": 4
}
